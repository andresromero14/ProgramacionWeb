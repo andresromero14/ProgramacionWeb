{
  "nbformat": 4,
  "nbformat_minor": 0,
  "metadata": {
    "colab": {
      "provenance": [],
      "authorship_tag": "ABX9TyMg/EmzhQ7ZlO0EagNVh/a2",
      "include_colab_link": true
    },
    "kernelspec": {
      "name": "python3",
      "display_name": "Python 3"
    },
    "language_info": {
      "name": "python"
    }
  },
  "cells": [
    {
      "cell_type": "markdown",
      "metadata": {
        "id": "view-in-github",
        "colab_type": "text"
      },
      "source": [
        "<a href=\"https://colab.research.google.com/github/andresromero14/ProgramacionWeb/blob/main/IMC.ipynb\" target=\"_parent\"><img src=\"https://colab.research.google.com/assets/colab-badge.svg\" alt=\"Open In Colab\"/></a>"
      ]
    },
    {
      "cell_type": "code",
      "execution_count": 17,
      "metadata": {
        "colab": {
          "base_uri": "https://localhost:8080/"
        },
        "id": "VMoVLjqp7QJH",
        "outputId": "651eb079-0759-4a2c-c135-bd5854d09508"
      },
      "outputs": [
        {
          "output_type": "stream",
          "name": "stdout",
          "text": [
            "23.148148148148145\n"
          ]
        }
      ],
      "source": [
        "#@title Calculo del Indice de masa Corporal {run: \"auto\" , vertical-output:true}\n",
        "Estatura =  1.80#@param {type:\"number\"}\n",
        "Peso = 75#@param {type:\"number\"}\n",
        "imc=Peso/Estatura**2\n",
        "print(imc)         \n",
        "\n"
      ]
    }
  ]
}